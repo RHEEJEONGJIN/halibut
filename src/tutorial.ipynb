{
 "cells": [
  {
   "attachments": {},
   "cell_type": "markdown",
   "metadata": {},
   "source": [
    "# requirements.txt"
   ]
  },
  {
   "cell_type": "code",
   "execution_count": 5,
   "metadata": {},
   "outputs": [
    {
     "name": "stdout",
     "output_type": "stream",
     "text": [
      "Requirement already satisfied: ultralytics in /home/int2/anaconda3/envs/rhee_halibut/lib/python3.8/site-packages (8.0.110)\n",
      "Requirement already satisfied: torchvision>=0.8.1 in /home/int2/anaconda3/envs/rhee_halibut/lib/python3.8/site-packages (from ultralytics) (0.14.0+cu116)\n",
      "Requirement already satisfied: Pillow>=7.1.2 in /home/int2/anaconda3/envs/rhee_halibut/lib/python3.8/site-packages (from ultralytics) (9.5.0)\n",
      "Requirement already satisfied: psutil in /home/int2/anaconda3/envs/rhee_halibut/lib/python3.8/site-packages (from ultralytics) (5.9.0)\n",
      "Requirement already satisfied: matplotlib>=3.2.2 in /home/int2/anaconda3/envs/rhee_halibut/lib/python3.8/site-packages (from ultralytics) (3.7.1)\n",
      "Requirement already satisfied: requests>=2.23.0 in /home/int2/anaconda3/envs/rhee_halibut/lib/python3.8/site-packages (from ultralytics) (2.31.0)\n",
      "Requirement already satisfied: PyYAML>=5.3.1 in /home/int2/anaconda3/envs/rhee_halibut/lib/python3.8/site-packages (from ultralytics) (6.0)\n",
      "Requirement already satisfied: opencv-python>=4.6.0 in /home/int2/anaconda3/envs/rhee_halibut/lib/python3.8/site-packages (from ultralytics) (4.7.0.72)\n",
      "Requirement already satisfied: scipy>=1.4.1 in /home/int2/anaconda3/envs/rhee_halibut/lib/python3.8/site-packages (from ultralytics) (1.10.1)\n",
      "Requirement already satisfied: pandas>=1.1.4 in /home/int2/anaconda3/envs/rhee_halibut/lib/python3.8/site-packages (from ultralytics) (2.0.2)\n",
      "Requirement already satisfied: tqdm>=4.64.0 in /home/int2/anaconda3/envs/rhee_halibut/lib/python3.8/site-packages (from ultralytics) (4.65.0)\n",
      "Requirement already satisfied: torch>=1.7.0 in /home/int2/anaconda3/envs/rhee_halibut/lib/python3.8/site-packages (from ultralytics) (1.13.0+cu116)\n",
      "Requirement already satisfied: seaborn>=0.11.0 in /home/int2/anaconda3/envs/rhee_halibut/lib/python3.8/site-packages (from ultralytics) (0.12.2)\n",
      "Requirement already satisfied: contourpy>=1.0.1 in /home/int2/anaconda3/envs/rhee_halibut/lib/python3.8/site-packages (from matplotlib>=3.2.2->ultralytics) (1.0.7)\n",
      "Requirement already satisfied: pyparsing>=2.3.1 in /home/int2/anaconda3/envs/rhee_halibut/lib/python3.8/site-packages (from matplotlib>=3.2.2->ultralytics) (3.0.9)\n",
      "Requirement already satisfied: importlib-resources>=3.2.0 in /home/int2/anaconda3/envs/rhee_halibut/lib/python3.8/site-packages (from matplotlib>=3.2.2->ultralytics) (5.12.0)\n",
      "Requirement already satisfied: fonttools>=4.22.0 in /home/int2/anaconda3/envs/rhee_halibut/lib/python3.8/site-packages (from matplotlib>=3.2.2->ultralytics) (4.39.4)\n",
      "Requirement already satisfied: kiwisolver>=1.0.1 in /home/int2/anaconda3/envs/rhee_halibut/lib/python3.8/site-packages (from matplotlib>=3.2.2->ultralytics) (1.4.4)\n",
      "Requirement already satisfied: numpy>=1.20 in /home/int2/anaconda3/envs/rhee_halibut/lib/python3.8/site-packages (from matplotlib>=3.2.2->ultralytics) (1.24.3)\n",
      "Requirement already satisfied: python-dateutil>=2.7 in /home/int2/anaconda3/envs/rhee_halibut/lib/python3.8/site-packages (from matplotlib>=3.2.2->ultralytics) (2.8.2)\n",
      "Requirement already satisfied: cycler>=0.10 in /home/int2/anaconda3/envs/rhee_halibut/lib/python3.8/site-packages (from matplotlib>=3.2.2->ultralytics) (0.11.0)\n",
      "Requirement already satisfied: packaging>=20.0 in /home/int2/anaconda3/envs/rhee_halibut/lib/python3.8/site-packages (from matplotlib>=3.2.2->ultralytics) (23.1)\n",
      "Requirement already satisfied: pytz>=2020.1 in /home/int2/anaconda3/envs/rhee_halibut/lib/python3.8/site-packages (from pandas>=1.1.4->ultralytics) (2023.3)\n",
      "Requirement already satisfied: tzdata>=2022.1 in /home/int2/anaconda3/envs/rhee_halibut/lib/python3.8/site-packages (from pandas>=1.1.4->ultralytics) (2023.3)\n",
      "Requirement already satisfied: charset-normalizer<4,>=2 in /home/int2/anaconda3/envs/rhee_halibut/lib/python3.8/site-packages (from requests>=2.23.0->ultralytics) (3.1.0)\n",
      "Requirement already satisfied: certifi>=2017.4.17 in /home/int2/anaconda3/envs/rhee_halibut/lib/python3.8/site-packages (from requests>=2.23.0->ultralytics) (2023.5.7)\n",
      "Requirement already satisfied: urllib3<3,>=1.21.1 in /home/int2/anaconda3/envs/rhee_halibut/lib/python3.8/site-packages (from requests>=2.23.0->ultralytics) (2.0.2)\n",
      "Requirement already satisfied: idna<4,>=2.5 in /home/int2/anaconda3/envs/rhee_halibut/lib/python3.8/site-packages (from requests>=2.23.0->ultralytics) (3.4)\n",
      "Requirement already satisfied: typing-extensions in /home/int2/anaconda3/envs/rhee_halibut/lib/python3.8/site-packages (from torch>=1.7.0->ultralytics) (4.6.2)\n",
      "Requirement already satisfied: zipp>=3.1.0 in /home/int2/anaconda3/envs/rhee_halibut/lib/python3.8/site-packages (from importlib-resources>=3.2.0->matplotlib>=3.2.2->ultralytics) (3.15.0)\n",
      "Requirement already satisfied: six>=1.5 in /home/int2/anaconda3/envs/rhee_halibut/lib/python3.8/site-packages (from python-dateutil>=2.7->matplotlib>=3.2.2->ultralytics) (1.16.0)\n",
      "Looking in indexes: https://pypi.org/simple, https://download.pytorch.org/whl/cu116\n",
      "Requirement already satisfied: torch==1.13.0+cu116 in /home/int2/anaconda3/envs/rhee_halibut/lib/python3.8/site-packages (1.13.0+cu116)\n",
      "Requirement already satisfied: torchvision==0.14.0+cu116 in /home/int2/anaconda3/envs/rhee_halibut/lib/python3.8/site-packages (0.14.0+cu116)\n",
      "Requirement already satisfied: torchaudio==0.13.0 in /home/int2/anaconda3/envs/rhee_halibut/lib/python3.8/site-packages (0.13.0+cu116)\n",
      "Requirement already satisfied: typing-extensions in /home/int2/anaconda3/envs/rhee_halibut/lib/python3.8/site-packages (from torch==1.13.0+cu116) (4.6.2)\n",
      "Requirement already satisfied: requests in /home/int2/anaconda3/envs/rhee_halibut/lib/python3.8/site-packages (from torchvision==0.14.0+cu116) (2.31.0)\n",
      "Requirement already satisfied: pillow!=8.3.*,>=5.3.0 in /home/int2/anaconda3/envs/rhee_halibut/lib/python3.8/site-packages (from torchvision==0.14.0+cu116) (9.5.0)\n",
      "Requirement already satisfied: numpy in /home/int2/anaconda3/envs/rhee_halibut/lib/python3.8/site-packages (from torchvision==0.14.0+cu116) (1.24.3)\n",
      "Requirement already satisfied: urllib3<3,>=1.21.1 in /home/int2/anaconda3/envs/rhee_halibut/lib/python3.8/site-packages (from requests->torchvision==0.14.0+cu116) (2.0.2)\n",
      "Requirement already satisfied: certifi>=2017.4.17 in /home/int2/anaconda3/envs/rhee_halibut/lib/python3.8/site-packages (from requests->torchvision==0.14.0+cu116) (2023.5.7)\n",
      "Requirement already satisfied: charset-normalizer<4,>=2 in /home/int2/anaconda3/envs/rhee_halibut/lib/python3.8/site-packages (from requests->torchvision==0.14.0+cu116) (3.1.0)\n",
      "Requirement already satisfied: idna<4,>=2.5 in /home/int2/anaconda3/envs/rhee_halibut/lib/python3.8/site-packages (from requests->torchvision==0.14.0+cu116) (3.4)\n",
      "Requirement already satisfied: numpy in /home/int2/anaconda3/envs/rhee_halibut/lib/python3.8/site-packages (1.24.3)\n",
      "Requirement already satisfied: pandas in /home/int2/anaconda3/envs/rhee_halibut/lib/python3.8/site-packages (2.0.2)\n",
      "Requirement already satisfied: numpy>=1.20.3 in /home/int2/anaconda3/envs/rhee_halibut/lib/python3.8/site-packages (from pandas) (1.24.3)\n",
      "Requirement already satisfied: python-dateutil>=2.8.2 in /home/int2/anaconda3/envs/rhee_halibut/lib/python3.8/site-packages (from pandas) (2.8.2)\n",
      "Requirement already satisfied: tzdata>=2022.1 in /home/int2/anaconda3/envs/rhee_halibut/lib/python3.8/site-packages (from pandas) (2023.3)\n",
      "Requirement already satisfied: pytz>=2020.1 in /home/int2/anaconda3/envs/rhee_halibut/lib/python3.8/site-packages (from pandas) (2023.3)\n",
      "Requirement already satisfied: six>=1.5 in /home/int2/anaconda3/envs/rhee_halibut/lib/python3.8/site-packages (from python-dateutil>=2.8.2->pandas) (1.16.0)\n",
      "Requirement already satisfied: Pillow in /home/int2/anaconda3/envs/rhee_halibut/lib/python3.8/site-packages (9.5.0)\n",
      "Requirement already satisfied: pyYAML in /home/int2/anaconda3/envs/rhee_halibut/lib/python3.8/site-packages (6.0)\n",
      "Requirement already satisfied: requests in /home/int2/anaconda3/envs/rhee_halibut/lib/python3.8/site-packages (2.31.0)\n",
      "Requirement already satisfied: certifi>=2017.4.17 in /home/int2/anaconda3/envs/rhee_halibut/lib/python3.8/site-packages (from requests) (2023.5.7)\n",
      "Requirement already satisfied: idna<4,>=2.5 in /home/int2/anaconda3/envs/rhee_halibut/lib/python3.8/site-packages (from requests) (3.4)\n",
      "Requirement already satisfied: charset-normalizer<4,>=2 in /home/int2/anaconda3/envs/rhee_halibut/lib/python3.8/site-packages (from requests) (3.1.0)\n",
      "Requirement already satisfied: urllib3<3,>=1.21.1 in /home/int2/anaconda3/envs/rhee_halibut/lib/python3.8/site-packages (from requests) (2.0.2)\n",
      "Requirement already satisfied: tqdm in /home/int2/anaconda3/envs/rhee_halibut/lib/python3.8/site-packages (4.65.0)\n",
      "Collecting sahi\n",
      "  Downloading sahi-0.11.14-py3-none-any.whl (104 kB)\n",
      "\u001b[2K     \u001b[90m━━━━━━━━━━━━━━━━━━━━━━━━━━━━━━━━━━━━━━━\u001b[0m \u001b[32m104.0/104.0 kB\u001b[0m \u001b[31m3.8 MB/s\u001b[0m eta \u001b[36m0:00:00\u001b[0m\n",
      "\u001b[?25hRequirement already satisfied: opencv-python>=4.2.0.32 in /home/int2/anaconda3/envs/rhee_halibut/lib/python3.8/site-packages (from sahi) (4.7.0.72)\n",
      "Requirement already satisfied: tqdm>=4.48.2 in /home/int2/anaconda3/envs/rhee_halibut/lib/python3.8/site-packages (from sahi) (4.65.0)\n",
      "Collecting fire\n",
      "  Downloading fire-0.5.0.tar.gz (88 kB)\n",
      "\u001b[2K     \u001b[90m━━━━━━━━━━━━━━━━━━━━━━━━━━━━━━━━━━━━━━━━\u001b[0m \u001b[32m88.3/88.3 kB\u001b[0m \u001b[31m6.9 MB/s\u001b[0m eta \u001b[36m0:00:00\u001b[0m\n",
      "\u001b[?25h  Preparing metadata (setup.py) ... \u001b[?25ldone\n",
      "\u001b[?25hRequirement already satisfied: pillow>=8.2.0 in /home/int2/anaconda3/envs/rhee_halibut/lib/python3.8/site-packages (from sahi) (9.5.0)\n",
      "Requirement already satisfied: pyyaml in /home/int2/anaconda3/envs/rhee_halibut/lib/python3.8/site-packages (from sahi) (6.0)\n",
      "Collecting click\n",
      "  Using cached click-8.1.3-py3-none-any.whl (96 kB)\n",
      "Collecting pybboxes==0.1.6\n",
      "  Downloading pybboxes-0.1.6-py3-none-any.whl (24 kB)\n",
      "Collecting terminaltables\n",
      "  Using cached terminaltables-3.1.10-py2.py3-none-any.whl (15 kB)\n",
      "Collecting shapely>=1.8.0\n",
      "  Using cached shapely-2.0.1-cp38-cp38-manylinux_2_17_x86_64.manylinux2014_x86_64.whl (2.3 MB)\n",
      "Requirement already satisfied: requests in /home/int2/anaconda3/envs/rhee_halibut/lib/python3.8/site-packages (from sahi) (2.31.0)\n",
      "Requirement already satisfied: numpy in /home/int2/anaconda3/envs/rhee_halibut/lib/python3.8/site-packages (from pybboxes==0.1.6->sahi) (1.24.3)\n",
      "Requirement already satisfied: six in /home/int2/anaconda3/envs/rhee_halibut/lib/python3.8/site-packages (from fire->sahi) (1.16.0)\n",
      "Collecting termcolor\n",
      "  Using cached termcolor-2.3.0-py3-none-any.whl (6.9 kB)\n",
      "Requirement already satisfied: urllib3<3,>=1.21.1 in /home/int2/anaconda3/envs/rhee_halibut/lib/python3.8/site-packages (from requests->sahi) (2.0.2)\n",
      "Requirement already satisfied: charset-normalizer<4,>=2 in /home/int2/anaconda3/envs/rhee_halibut/lib/python3.8/site-packages (from requests->sahi) (3.1.0)\n",
      "Requirement already satisfied: idna<4,>=2.5 in /home/int2/anaconda3/envs/rhee_halibut/lib/python3.8/site-packages (from requests->sahi) (3.4)\n",
      "Requirement already satisfied: certifi>=2017.4.17 in /home/int2/anaconda3/envs/rhee_halibut/lib/python3.8/site-packages (from requests->sahi) (2023.5.7)\n",
      "Building wheels for collected packages: fire\n",
      "  Building wheel for fire (setup.py) ... \u001b[?25ldone\n",
      "\u001b[?25h  Created wheel for fire: filename=fire-0.5.0-py2.py3-none-any.whl size=116931 sha256=c9b3813fb3020ca401407c150f6105ac4c98ce270899f7d4ac206d8bfffa5a90\n",
      "  Stored in directory: /home/int2/.cache/pip/wheels/5b/eb/43/7295e71293b218ddfd627f935229bf54af9018add7fbb5aac6\n",
      "Successfully built fire\n",
      "Installing collected packages: terminaltables, termcolor, shapely, pybboxes, click, fire, sahi\n",
      "Successfully installed click-8.1.3 fire-0.5.0 pybboxes-0.1.6 sahi-0.11.14 shapely-2.0.1 termcolor-2.3.0 terminaltables-3.1.10\n"
     ]
    }
   ],
   "source": [
    "!pip install ultralytics\n",
    "!pip install torch==1.13.0+cu116 torchvision==0.14.0+cu116 torchaudio==0.13.0 --extra-index-url https://download.pytorch.org/whl/cu116\n",
    "!pip install numpy\n",
    "!pip install pandas\n",
    "!pip install Pillow\n",
    "!pip install pyYAML\n",
    "!pip install requests\n",
    "!pip install tqdm\n",
    "!pip install sahi"
   ]
  },
  {
   "attachments": {},
   "cell_type": "markdown",
   "metadata": {},
   "source": [
    "# convert coco to yolo"
   ]
  },
  {
   "cell_type": "code",
   "execution_count": 6,
   "metadata": {},
   "outputs": [],
   "source": [
    "import json"
   ]
  },
  {
   "cell_type": "code",
   "execution_count": null,
   "metadata": {},
   "outputs": [],
   "source": []
  }
 ],
 "metadata": {
  "kernelspec": {
   "display_name": "rhee_rice_mmdet",
   "language": "python",
   "name": "python3"
  },
  "language_info": {
   "codemirror_mode": {
    "name": "ipython",
    "version": 3
   },
   "file_extension": ".py",
   "mimetype": "text/x-python",
   "name": "python",
   "nbconvert_exporter": "python",
   "pygments_lexer": "ipython3",
   "version": "3.8.16"
  },
  "orig_nbformat": 4
 },
 "nbformat": 4,
 "nbformat_minor": 2
}
